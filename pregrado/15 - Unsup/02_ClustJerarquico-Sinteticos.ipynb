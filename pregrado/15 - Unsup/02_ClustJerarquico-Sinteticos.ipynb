{
 "cells": [
  {
   "cell_type": "markdown",
   "metadata": {},
   "source": [
    "# Clustering"
   ]
  },
  {
   "cell_type": "markdown",
   "metadata": {},
   "source": [
    "Vamos a realizar operaciones de **clustering** (segmentación) de datos.\n",
    "La idea es encontrar una estructura dentro de un dataset donde originalmente no la había.\n",
    "No se tiene un objetivo de predicción (se trata **aprendizaje no supervisado**), sino de uno de entendimiento de los datos a través del particionamiento del dataset en grupos de instancias."
   ]
  },
  {
   "cell_type": "markdown",
   "metadata": {},
   "source": [
    "Para poder entender como se utilizan los algoritmos de clustering, vamos a crear un dataset sintético con datos ficticios que nos permita ilustrar los aspectos de llamado a los métodos de python."
   ]
  },
  {
   "cell_type": "markdown",
   "metadata": {},
   "source": [
    "Vamos a generar y visualizar en un plot 300 puntos aleatorios distribuidos alrededor de 4 centros en un espacio bidimensional, con una desviación estándar de 0.7. "
   ]
  },
  {
   "cell_type": "code",
   "execution_count": null,
   "metadata": {},
   "outputs": [],
   "source": [
    "import matplotlib.pyplot as plt\n",
    "import seaborn as sns\n",
    "import numpy as np\n",
    "import pandas as pd\n",
    "import math\n",
    "from collections import Counter\n",
    "from time import time\n",
    "\n",
    "\n",
    "from sklearn.cluster import KMeans, AgglomerativeClustering\n",
    "from scipy.cluster.hierarchy import dendrogram, linkage, fcluster\n",
    "from sklearn.metrics import confusion_matrix, accuracy_score, silhouette_samples, silhouette_score, calinski_harabaz_score\n",
    "from sklearn import preprocessing\n",
    "from sklearn.decomposition import PCA"
   ]
  },
  {
   "cell_type": "code",
   "execution_count": null,
   "metadata": {},
   "outputs": [],
   "source": [
    "from sklearn.datasets.samples_generator import make_blobs\n",
    "X, grupo = make_blobs(n_samples=1000, centers=4, cluster_std=1, random_state=0)\n",
    "plt.scatter(X[:, 0], X[:, 1], s=50);"
   ]
  },
  {
   "cell_type": "markdown",
   "metadata": {},
   "source": [
    "En X van a quedar las coordenadas de los puntos y en **grupo** los clusters originales a los que pertencen los datos."
   ]
  },
  {
   "cell_type": "code",
   "execution_count": null,
   "metadata": {},
   "outputs": [],
   "source": [
    "X[0:5]"
   ]
  },
  {
   "cell_type": "code",
   "execution_count": null,
   "metadata": {},
   "outputs": [],
   "source": [
    "grupo[0:5]"
   ]
  },
  {
   "cell_type": "markdown",
   "metadata": {},
   "source": [
    "## Scikit-learn"
   ]
  },
  {
   "cell_type": "markdown",
   "metadata": {},
   "source": [
    "El algoritmo de Clustering Jerárquico (AgglomerativeClustering en Scikit-Learn) recibe como parámetro el tipo de fusión de clusters y el número de clusters que se buscan (hay que especificarlo ya que no lo determina automáticamente). Como sabemos que los datos sintéticos se crearon con 4 grupos, vamos a analizar si HClust los logra detectar.\n",
    "\n",
    "Vamos a intentar con diferentes tipos de métodos de fusión (un modelo para cada fusión) para entender sus diferencias al analizar los resultados. Comparamos los resultados entre ellos y también con respecto a KMeans."
   ]
  },
  {
   "cell_type": "code",
   "execution_count": null,
   "metadata": {},
   "outputs": [],
   "source": [
    "fig, axes = plt.subplots(2,2,figsize=(15,15))\n",
    "\n",
    "link = 'ward'\n",
    "clustering = AgglomerativeClustering(linkage=link, n_clusters=4)\n",
    "clustering.fit(X)\n",
    "axes[0][0].scatter(X[:, 0], X[:, 1], c=clustering.labels_, s=50, cmap='viridis')\n",
    "axes[0][0].set_title(\"%s linkage\" % link)\n",
    "\n",
    "link = 'complete'\n",
    "clustering = AgglomerativeClustering(linkage=link, n_clusters=4)\n",
    "clustering.fit(X)\n",
    "axes[0][1].scatter(X[:, 0], X[:, 1], c=clustering.labels_, s=50, cmap='viridis')\n",
    "axes[0][1].set_title(\"%s linkage\" % link)\n",
    "\n",
    "link = 'average'\n",
    "clustering = AgglomerativeClustering(linkage=link, n_clusters=4)\n",
    "clustering.fit(X)\n",
    "axes[1][0].scatter(X[:, 0], X[:, 1], c=clustering.labels_, s=50, cmap='viridis')\n",
    "axes[1][0].set_title(\"%s linkage\" % link)\n",
    "\n",
    "clustering = KMeans(n_clusters=4)\n",
    "clustering.fit(X)\n",
    "axes[1][1].scatter(X[:, 0], X[:, 1], c=clustering.labels_, s=50, cmap='viridis')\n",
    "axes[1][1].set_title(\"K-Means\")"
   ]
  },
  {
   "cell_type": "markdown",
   "metadata": {},
   "source": [
    "El problema de **Scikit-learn** es que no incluye otros ñétodos de fusión (e.g. Single) y no incluye un método de visualización de dendrogramas.\n",
    "\n",
    "Vamos ahora a utilizar la librería **scipy**, que es mas versátil."
   ]
  },
  {
   "cell_type": "markdown",
   "metadata": {},
   "source": [
    "## Scipy"
   ]
  },
  {
   "cell_type": "markdown",
   "metadata": {},
   "source": [
    "Scipy dispone de la función **linkage** que resume las diferentes fusiones realizadas (son n-1 fusiones), utilizando el método de fusión indicado como parámetro. El resultado de la función linkage es una matriz de 4 columnas:\n",
    "- Índice del primer cluster a fusionar\n",
    "- Índice del segundo cluster a fusionar\n",
    "- Distancia de fusión según el método indicado\n",
    "- Número de elementos atómicos incluidos en el cluster fusionado"
   ]
  },
  {
   "cell_type": "code",
   "execution_count": null,
   "metadata": {},
   "outputs": [],
   "source": [
    "# generate the linkage matrix\n",
    "fusiones = linkage(X, 'ward')"
   ]
  },
  {
   "cell_type": "markdown",
   "metadata": {},
   "source": [
    "Vemos entonces que las 5 primeras fusiones aglomeran clusters de tamaño 1 (puntos atómicos), ya que el tamaño final de la aglomeración es 2). Vemos también que las distancias de fusión de la 3a columna van a estar siempre en orden creciente; en el dendrograma se vana utilizar para definir la altura de las ramas."
   ]
  },
  {
   "cell_type": "code",
   "execution_count": null,
   "metadata": {},
   "outputs": [],
   "source": [
    "fusiones[-5:]"
   ]
  },
  {
   "cell_type": "markdown",
   "metadata": {},
   "source": [
    "Vemos que en las últimas fusiones las distancias son muchísmo mas grandes, y que las aglomeraciones tienen una cardinalidad elevada, finalizando en un cluster con la última fusión de los 1000 puntos totales.\n",
    "Además los índices sobrepasan el valor de 1000, refiriéndose a clusters previamente aglomerados y no a elementos atómicos, siguiendo el mismo orden de aglomeración."
   ]
  },
  {
   "cell_type": "markdown",
   "metadata": {},
   "source": [
    "### Dendrogramas"
   ]
  },
  {
   "cell_type": "code",
   "execution_count": null,
   "metadata": {},
   "outputs": [],
   "source": [
    "plt.figure(figsize=(16, 7))  \n",
    "plt.title('Dendrograma de clustering jerárquico')\n",
    "plt.xlabel('Registro')\n",
    "plt.ylabel('Distancia')\n",
    "dendrogram(fusiones,  \n",
    "           orientation='top',\n",
    "           distance_sort='descending',\n",
    "           show_leaf_counts=True)\n",
    "plt.show()"
   ]
  },
  {
   "cell_type": "markdown",
   "metadata": {},
   "source": [
    "Vamos a tomar prestada una función encontrada en https://joernhees.de/blog/2015/08/26/scipy-hierarchical-clustering-and-dendrogram-tutorial/ que permite reutilizar los datos devueltos por la función dendrograma para mejorar los dendrogramas:"
   ]
  },
  {
   "cell_type": "code",
   "execution_count": null,
   "metadata": {},
   "outputs": [],
   "source": [
    "def fancy_dendrogram(*args, **kwargs):\n",
    "    max_d = kwargs.pop('max_d', None)\n",
    "    if max_d and 'color_threshold' not in kwargs:\n",
    "        kwargs['color_threshold'] = max_d\n",
    "    annotate_above = kwargs.pop('annotate_above', 0)\n",
    "    ddata = dendrogram(*args, **kwargs)\n",
    "\n",
    "    if not kwargs.get('no_plot', False):\n",
    "        plt.title('Hierarchical Clustering Dendrogram (truncated)')\n",
    "        plt.xlabel('sample index or (cluster size)')\n",
    "        plt.ylabel('distance')\n",
    "        for i, d, c in zip(ddata['icoord'], ddata['dcoord'], ddata['color_list']):\n",
    "            x = 0.5 * sum(i[1:3])\n",
    "            y = d[1]\n",
    "            if y > annotate_above:\n",
    "                plt.plot(x, y, 'o', c=c)\n",
    "                plt.annotate(\"%.3g\" % y, (x, y), xytext=(0, -5),\n",
    "                             textcoords='offset points',\n",
    "                             va='top', ha='center')\n",
    "        if max_d:\n",
    "            plt.axhline(y=max_d, c='k')"
   ]
  },
  {
   "cell_type": "markdown",
   "metadata": {},
   "source": [
    "Vamos a indicar el K que creemos conveniente especificando la distancia correspondiente (para k=4 tenemos d=30), a solamente considerar los últimos 50 clusters, truncando el resto de tal manera que en las hojas del dendrograma podemos consultar el tamaño de cada cluster truncado:"
   ]
  },
  {
   "cell_type": "code",
   "execution_count": null,
   "metadata": {},
   "outputs": [],
   "source": [
    "plt.figure(figsize=(16, 7))  \n",
    "fancy_dendrogram(\n",
    "    fusiones,\n",
    "    truncate_mode='lastp',\n",
    "    p=50,\n",
    "    leaf_rotation=90.,\n",
    "    leaf_font_size=10.,\n",
    "    show_contracted=True,\n",
    "    annotate_above=10,\n",
    "    max_d=30,  # plot a horizontal cut-off line\n",
    ")\n"
   ]
  },
  {
   "cell_type": "code",
   "execution_count": null,
   "metadata": {},
   "outputs": [],
   "source": [
    "plt.figure(figsize=(16, 7))  \n",
    "fancy_dendrogram(\n",
    "    fusiones,\n",
    "    truncate_mode='lastp',\n",
    "    p=4,\n",
    "    leaf_rotation=90.,\n",
    "    leaf_font_size=10.,\n",
    "    show_contracted=True,\n",
    "    annotate_above=10\n",
    ")"
   ]
  },
  {
   "cell_type": "markdown",
   "metadata": {},
   "source": [
    "### Obtener los clusters"
   ]
  },
  {
   "cell_type": "markdown",
   "metadata": {},
   "source": [
    "Encontramos entonces 4 clusters con 240, 205, 225 y 330 puntos cada uno.\n",
    "\n",
    "Para obtener el cluster de cada punto, lo podemos obtener de dos manera, ya sea a partir de la distancia de fusión (\"distance\")  o a partir del número de clusters (\"maxclust\") que se deseen:"
   ]
  },
  {
   "cell_type": "code",
   "execution_count": null,
   "metadata": {},
   "outputs": [],
   "source": [
    "max_d = 30 #para criterion=\"distance\"\n",
    "k = 4\n",
    "clusters = fcluster(fusiones, k, criterion='maxclust')\n",
    "clusters"
   ]
  },
  {
   "cell_type": "markdown",
   "metadata": {},
   "source": [
    "### Comparación de los diferentes métodos de fusión disponibles en SciPy"
   ]
  },
  {
   "cell_type": "code",
   "execution_count": null,
   "metadata": {},
   "outputs": [],
   "source": [
    "X.shape\n",
    "X[0:5]"
   ]
  },
  {
   "cell_type": "code",
   "execution_count": null,
   "metadata": {},
   "outputs": [],
   "source": [
    "k = 4\n",
    "fig, axes = plt.subplots(3,2,figsize=(15,15))\n",
    "\n",
    "link = 'ward'\n",
    "fusiones = linkage(X, link)\n",
    "clusters = fcluster(fusiones, k, criterion='maxclust')\n",
    "axes[0][0].scatter(X[:, 0], X[:, 1], c=clusters, s=50, cmap='viridis')\n",
    "axes[0][0].set_title(\"%s linkage\" % link)\n",
    "\n",
    "link = 'complete'\n",
    "fusiones = linkage(X, link)\n",
    "clusters = fcluster(fusiones, k, criterion='maxclust')\n",
    "axes[0][1].scatter(X[:, 0], X[:, 1], c=clusters, s=50, cmap='viridis')\n",
    "axes[0][1].set_title(\"%s linkage\" % link)\n",
    "\n",
    "link = 'average'\n",
    "fusiones = linkage(X, link)\n",
    "clusters = fcluster(fusiones, k, criterion='maxclust')\n",
    "axes[1][0].scatter(X[:, 0], X[:, 1], c=clusters, s=50, cmap='viridis')\n",
    "axes[1][0].set_title(\"%s linkage\" % link)\n",
    "\n",
    "link = 'single'\n",
    "fusiones = linkage(X, link)\n",
    "clusters = fcluster(fusiones, k, criterion='maxclust')\n",
    "axes[1][1].scatter(X[:, 0], X[:, 1], c=clusters, s=50, cmap='viridis')\n",
    "axes[1][1].set_title(\"%s linkage\" % link)\n",
    "\n",
    "link = 'centroid'\n",
    "fusiones = linkage(X, link)\n",
    "clusters = fcluster(fusiones, k, criterion='maxclust')\n",
    "axes[2][0].scatter(X[:, 0], X[:, 1], c=clusters, s=50, cmap='viridis')\n",
    "axes[2][0].set_title(\"%s linkage\" % link)\n",
    "\n",
    "link = 'weighted'\n",
    "fusiones = linkage(X, link)\n",
    "clusters = fcluster(fusiones, k, criterion='maxclust')\n",
    "axes[2][1].scatter(X[:, 0], X[:, 1], c=clusters, s=50, cmap='viridis')\n",
    "axes[2][1].set_title(\"%s linkage\" % link)"
   ]
  },
  {
   "cell_type": "code",
   "execution_count": null,
   "metadata": {},
   "outputs": [],
   "source": [
    "fig, axes = plt.subplots(figsize=(15,6))\n",
    "link = 'ward'\n",
    "fusiones = linkage(X, link)\n",
    "fancy_dendrogram(\n",
    "    fusiones,\n",
    "    truncate_mode='lastp',\n",
    "    p=50,\n",
    "    leaf_rotation=90.,\n",
    "    leaf_font_size=10.,\n",
    "    show_contracted=True,\n",
    "    annotate_above=10,\n",
    "    max_d=30,  # plot a horizontal cut-off line\n",
    ")\n",
    "plt.title(link)\n",
    "plt.show()"
   ]
  },
  {
   "cell_type": "code",
   "execution_count": null,
   "metadata": {},
   "outputs": [],
   "source": [
    "fig, axes = plt.subplots(figsize=(15,6))\n",
    "link = 'complete'\n",
    "fusiones = linkage(X, link)\n",
    "fancy_dendrogram(\n",
    "    fusiones,\n",
    "    truncate_mode='lastp',\n",
    "    p=50,\n",
    "    leaf_rotation=90.,\n",
    "    leaf_font_size=10.,\n",
    "    show_contracted=True,\n",
    "    annotate_above=10,\n",
    "    max_d=7,  # plot a horizontal cut-off line\n",
    ")\n",
    "plt.title(link)\n",
    "plt.show()"
   ]
  },
  {
   "cell_type": "code",
   "execution_count": null,
   "metadata": {},
   "outputs": [],
   "source": [
    "fig, axes = plt.subplots(figsize=(15,6))\n",
    "link = 'average'\n",
    "fusiones = linkage(X, link)\n",
    "fancy_dendrogram(\n",
    "    fusiones,\n",
    "    truncate_mode='lastp',\n",
    "    p=50,\n",
    "    leaf_rotation=90.,\n",
    "    leaf_font_size=10.,\n",
    "    show_contracted=True,\n",
    "    annotate_above=10,\n",
    "    max_d=3.2,  # plot a horizontal cut-off line\n",
    ")\n",
    "plt.title(link)\n",
    "plt.show()"
   ]
  },
  {
   "cell_type": "code",
   "execution_count": null,
   "metadata": {},
   "outputs": [],
   "source": [
    "fig, axes = plt.subplots(figsize=(15,6))\n",
    "link = 'single'\n",
    "fusiones = linkage(X, link)\n",
    "fancy_dendrogram(\n",
    "    fusiones,\n",
    "    truncate_mode='lastp',\n",
    "    p=50,\n",
    "    leaf_rotation=90.,\n",
    "    leaf_font_size=10.,\n",
    "    show_contracted=True,\n",
    "    annotate_above=10,\n",
    "    max_d=0.9,  # plot a horizontal cut-off line\n",
    ")\n",
    "plt.title(link)\n",
    "plt.show()"
   ]
  },
  {
   "cell_type": "code",
   "execution_count": null,
   "metadata": {},
   "outputs": [],
   "source": [
    "fig, axes = plt.subplots(figsize=(15,6))\n",
    "link = 'centroid'\n",
    "fusiones = linkage(X, link)\n",
    "fancy_dendrogram(\n",
    "    fusiones,\n",
    "    truncate_mode='lastp',\n",
    "    p=50,\n",
    "    leaf_rotation=90.,\n",
    "    leaf_font_size=10.,\n",
    "    show_contracted=True,\n",
    "    annotate_above=10,\n",
    "    max_d=3.2,  # plot a horizontal cut-off line\n",
    ")\n",
    "plt.title(link)\n",
    "plt.show()"
   ]
  },
  {
   "cell_type": "code",
   "execution_count": null,
   "metadata": {},
   "outputs": [],
   "source": [
    "fig, axes = plt.subplots(figsize=(15,6))\n",
    "link = 'weighted'\n",
    "fusiones = linkage(X, link)\n",
    "fancy_dendrogram(\n",
    "    fusiones,\n",
    "    truncate_mode='lastp',\n",
    "    p=50,\n",
    "    leaf_rotation=90.,\n",
    "    leaf_font_size=10.,\n",
    "    show_contracted=True,\n",
    "    annotate_above=10,\n",
    "    max_d=4,  # plot a horizontal cut-off line\n",
    ")\n",
    "plt.title(link)\n",
    "plt.show()"
   ]
  }
 ],
 "metadata": {
  "kernelspec": {
   "display_name": "Python 3",
   "language": "python",
   "name": "python3"
  },
  "language_info": {
   "codemirror_mode": {
    "name": "ipython",
    "version": 3
   },
   "file_extension": ".py",
   "mimetype": "text/x-python",
   "name": "python",
   "nbconvert_exporter": "python",
   "pygments_lexer": "ipython3",
   "version": "3.7.3"
  }
 },
 "nbformat": 4,
 "nbformat_minor": 2
}
