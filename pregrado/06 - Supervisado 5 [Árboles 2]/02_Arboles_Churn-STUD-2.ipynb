{
 "cells": [
  {
   "cell_type": "markdown",
   "metadata": {},
   "source": [
    "# Árboles de decisión: Churn compañía de servicios de telefonía móvil"
   ]
  },
  {
   "cell_type": "markdown",
   "metadata": {},
   "source": [
    "Vamos a aplicar un modelo de clasificación de árboles de decisión a un dataset que describe los clientes de una compañía que presta servicios de telefonía móvil que se han abandonado o no la compañía para irse a la competencia."
   ]
  },
  {
   "cell_type": "markdown",
   "metadata": {},
   "source": [
    "Importamos las librerías que vamos a utilizar"
   ]
  },
  {
   "cell_type": "code",
   "execution_count": 1,
   "metadata": {},
   "outputs": [],
   "source": [
    "import numpy as np #operaciones matriciales y con vectores\n",
    "import pandas as pd #tratamiento de datos\n",
    "import matplotlib.pyplot as plt #gráficos\n",
    "from sklearn import tree, datasets, metrics\n",
    "#from sklearn import neighbors, datasets, metrics\n",
    "from sklearn.model_selection import train_test_split #metodo de particionamiento de datasets para evaluación\n",
    "from sklearn.model_selection import cross_val_score, cross_validate #método para evaluar varios particionamientos de C-V\n",
    "from sklearn.model_selection import KFold, StratifiedKFold, RepeatedKFold, LeaveOneOut #Iteradores de C-V\n",
    "import seaborn as sns\n",
    "import math"
   ]
  },
  {
   "cell_type": "markdown",
   "metadata": {},
   "source": [
    "## Entendimiento de los datos"
   ]
  },
  {
   "cell_type": "markdown",
   "metadata": {},
   "source": [
    "Cargamos los datos para entenderlos"
   ]
  },
  {
   "cell_type": "code",
   "execution_count": 2,
   "metadata": {},
   "outputs": [
    {
     "name": "stdout",
     "output_type": "stream",
     "text": [
      "(20000, 12)\n"
     ]
    },
    {
     "data": {
      "text/html": [
       "<div>\n",
       "<style scoped>\n",
       "    .dataframe tbody tr th:only-of-type {\n",
       "        vertical-align: middle;\n",
       "    }\n",
       "\n",
       "    .dataframe tbody tr th {\n",
       "        vertical-align: top;\n",
       "    }\n",
       "\n",
       "    .dataframe thead th {\n",
       "        text-align: right;\n",
       "    }\n",
       "</style>\n",
       "<table border=\"1\" class=\"dataframe\">\n",
       "  <thead>\n",
       "    <tr style=\"text-align: right;\">\n",
       "      <th></th>\n",
       "      <th>COLLEGE</th>\n",
       "      <th>INCOME</th>\n",
       "      <th>OVERAGE</th>\n",
       "      <th>LEFTOVER</th>\n",
       "      <th>HOUSE</th>\n",
       "      <th>HANDSET_PRICE</th>\n",
       "      <th>OVER_15MINS_CALLS_PER_MONTH</th>\n",
       "      <th>AVERAGE_CALL_DURATION</th>\n",
       "      <th>REPORTED_SATISFACTION</th>\n",
       "      <th>REPORTED_USAGE_LEVEL</th>\n",
       "      <th>CONSIDERING_CHANGE_OF_PLAN</th>\n",
       "      <th>LEAVE</th>\n",
       "    </tr>\n",
       "  </thead>\n",
       "  <tbody>\n",
       "    <tr>\n",
       "      <th>0</th>\n",
       "      <td>zero</td>\n",
       "      <td>31953</td>\n",
       "      <td>0</td>\n",
       "      <td>6</td>\n",
       "      <td>313378</td>\n",
       "      <td>161</td>\n",
       "      <td>0</td>\n",
       "      <td>4</td>\n",
       "      <td>unsat</td>\n",
       "      <td>little</td>\n",
       "      <td>no</td>\n",
       "      <td>STAY</td>\n",
       "    </tr>\n",
       "    <tr>\n",
       "      <th>1</th>\n",
       "      <td>one</td>\n",
       "      <td>36147</td>\n",
       "      <td>0</td>\n",
       "      <td>13</td>\n",
       "      <td>800586</td>\n",
       "      <td>244</td>\n",
       "      <td>0</td>\n",
       "      <td>6</td>\n",
       "      <td>unsat</td>\n",
       "      <td>little</td>\n",
       "      <td>considering</td>\n",
       "      <td>STAY</td>\n",
       "    </tr>\n",
       "    <tr>\n",
       "      <th>2</th>\n",
       "      <td>one</td>\n",
       "      <td>27273</td>\n",
       "      <td>230</td>\n",
       "      <td>0</td>\n",
       "      <td>305049</td>\n",
       "      <td>201</td>\n",
       "      <td>16</td>\n",
       "      <td>15</td>\n",
       "      <td>unsat</td>\n",
       "      <td>very_little</td>\n",
       "      <td>perhaps</td>\n",
       "      <td>STAY</td>\n",
       "    </tr>\n",
       "    <tr>\n",
       "      <th>3</th>\n",
       "      <td>zero</td>\n",
       "      <td>120070</td>\n",
       "      <td>38</td>\n",
       "      <td>33</td>\n",
       "      <td>788235</td>\n",
       "      <td>780</td>\n",
       "      <td>3</td>\n",
       "      <td>2</td>\n",
       "      <td>unsat</td>\n",
       "      <td>very_high</td>\n",
       "      <td>considering</td>\n",
       "      <td>LEAVE</td>\n",
       "    </tr>\n",
       "    <tr>\n",
       "      <th>4</th>\n",
       "      <td>one</td>\n",
       "      <td>29215</td>\n",
       "      <td>208</td>\n",
       "      <td>85</td>\n",
       "      <td>224784</td>\n",
       "      <td>241</td>\n",
       "      <td>21</td>\n",
       "      <td>1</td>\n",
       "      <td>very_unsat</td>\n",
       "      <td>little</td>\n",
       "      <td>never_thought</td>\n",
       "      <td>STAY</td>\n",
       "    </tr>\n",
       "  </tbody>\n",
       "</table>\n",
       "</div>"
      ],
      "text/plain": [
       "  COLLEGE  INCOME  OVERAGE  LEFTOVER   HOUSE  HANDSET_PRICE  \\\n",
       "0    zero   31953        0         6  313378            161   \n",
       "1     one   36147        0        13  800586            244   \n",
       "2     one   27273      230         0  305049            201   \n",
       "3    zero  120070       38        33  788235            780   \n",
       "4     one   29215      208        85  224784            241   \n",
       "\n",
       "   OVER_15MINS_CALLS_PER_MONTH  AVERAGE_CALL_DURATION REPORTED_SATISFACTION  \\\n",
       "0                            0                      4                 unsat   \n",
       "1                            0                      6                 unsat   \n",
       "2                           16                     15                 unsat   \n",
       "3                            3                      2                 unsat   \n",
       "4                           21                      1            very_unsat   \n",
       "\n",
       "  REPORTED_USAGE_LEVEL CONSIDERING_CHANGE_OF_PLAN  LEAVE  \n",
       "0               little                         no   STAY  \n",
       "1               little                considering   STAY  \n",
       "2          very_little                    perhaps   STAY  \n",
       "3            very_high                considering  LEAVE  \n",
       "4               little              never_thought   STAY  "
      ]
     },
     "execution_count": 2,
     "metadata": {},
     "output_type": "execute_result"
    }
   ],
   "source": [
    "data = pd.read_csv('02_churn.csv', sep=';', na_values=\".\")\n",
    "print(data.shape)\n",
    "data.head(5)"
   ]
  },
  {
   "cell_type": "markdown",
   "metadata": {},
   "source": [
    "**Parte 1**:\n",
    "* Determine el número de registros, de variables, sus tipos ideales/reales, y sus rangos\n",
    "* Determine el baseline y su accuracy. ¿Están balanceados los datos?\n",
    "* ¿Encuentran algún problema con los datos (missing values, datos inválidos (sentido común --> Potes), )?\n",
    "* Si fuésemos a utilizar K-NN, ¿debería hacerse algún pretratamiento de los datos?"
   ]
  },
  {
   "cell_type": "markdown",
   "metadata": {},
   "source": [
    "El método **describe** permite obtener un dataframe con una descripción de las variables de un dataframe analizado. Para cada variable encontramos el número de registros validos (*count*).\n",
    "\n",
    "Además, si se trata de una variable categórica, se puede obtener el número de clases posibles (*unique*), la clase mayoritaria (*top*) y la frecuencia de la clase mayoritaria (*freq*).\n",
    "\n",
    "Y, si se trata de una variable numérica, se puede obtener el promedio (*mean*), desviación estándar (*std*), los valores mínimos (*min*) y máximos (*max*) y los cuartiles (*25%*, *50%* y *75%*)."
   ]
  },
  {
   "cell_type": "code",
   "execution_count": 3,
   "metadata": {},
   "outputs": [
    {
     "data": {
      "text/html": [
       "<div>\n",
       "<style scoped>\n",
       "    .dataframe tbody tr th:only-of-type {\n",
       "        vertical-align: middle;\n",
       "    }\n",
       "\n",
       "    .dataframe tbody tr th {\n",
       "        vertical-align: top;\n",
       "    }\n",
       "\n",
       "    .dataframe thead th {\n",
       "        text-align: right;\n",
       "    }\n",
       "</style>\n",
       "<table border=\"1\" class=\"dataframe\">\n",
       "  <thead>\n",
       "    <tr style=\"text-align: right;\">\n",
       "      <th></th>\n",
       "      <th>COLLEGE</th>\n",
       "      <th>INCOME</th>\n",
       "      <th>OVERAGE</th>\n",
       "      <th>LEFTOVER</th>\n",
       "      <th>HOUSE</th>\n",
       "      <th>HANDSET_PRICE</th>\n",
       "      <th>OVER_15MINS_CALLS_PER_MONTH</th>\n",
       "      <th>AVERAGE_CALL_DURATION</th>\n",
       "      <th>REPORTED_SATISFACTION</th>\n",
       "      <th>REPORTED_USAGE_LEVEL</th>\n",
       "      <th>CONSIDERING_CHANGE_OF_PLAN</th>\n",
       "      <th>LEAVE</th>\n",
       "    </tr>\n",
       "  </thead>\n",
       "  <tbody>\n",
       "    <tr>\n",
       "      <th>count</th>\n",
       "      <td>20000</td>\n",
       "      <td>20000.000000</td>\n",
       "      <td>20000.000000</td>\n",
       "      <td>20000.000000</td>\n",
       "      <td>20000.000000</td>\n",
       "      <td>20000.000000</td>\n",
       "      <td>20000.000000</td>\n",
       "      <td>20000.000000</td>\n",
       "      <td>20000</td>\n",
       "      <td>20000</td>\n",
       "      <td>20000</td>\n",
       "      <td>20000</td>\n",
       "    </tr>\n",
       "    <tr>\n",
       "      <th>unique</th>\n",
       "      <td>2</td>\n",
       "      <td>NaN</td>\n",
       "      <td>NaN</td>\n",
       "      <td>NaN</td>\n",
       "      <td>NaN</td>\n",
       "      <td>NaN</td>\n",
       "      <td>NaN</td>\n",
       "      <td>NaN</td>\n",
       "      <td>5</td>\n",
       "      <td>5</td>\n",
       "      <td>5</td>\n",
       "      <td>2</td>\n",
       "    </tr>\n",
       "    <tr>\n",
       "      <th>top</th>\n",
       "      <td>one</td>\n",
       "      <td>NaN</td>\n",
       "      <td>NaN</td>\n",
       "      <td>NaN</td>\n",
       "      <td>NaN</td>\n",
       "      <td>NaN</td>\n",
       "      <td>NaN</td>\n",
       "      <td>NaN</td>\n",
       "      <td>very_unsat</td>\n",
       "      <td>little</td>\n",
       "      <td>considering</td>\n",
       "      <td>STAY</td>\n",
       "    </tr>\n",
       "    <tr>\n",
       "      <th>freq</th>\n",
       "      <td>10048</td>\n",
       "      <td>NaN</td>\n",
       "      <td>NaN</td>\n",
       "      <td>NaN</td>\n",
       "      <td>NaN</td>\n",
       "      <td>NaN</td>\n",
       "      <td>NaN</td>\n",
       "      <td>NaN</td>\n",
       "      <td>7909</td>\n",
       "      <td>7875</td>\n",
       "      <td>7920</td>\n",
       "      <td>10148</td>\n",
       "    </tr>\n",
       "    <tr>\n",
       "      <th>mean</th>\n",
       "      <td>NaN</td>\n",
       "      <td>80281.447750</td>\n",
       "      <td>85.979550</td>\n",
       "      <td>23.898650</td>\n",
       "      <td>493155.264250</td>\n",
       "      <td>389.615100</td>\n",
       "      <td>8.000700</td>\n",
       "      <td>6.002250</td>\n",
       "      <td>NaN</td>\n",
       "      <td>NaN</td>\n",
       "      <td>NaN</td>\n",
       "      <td>NaN</td>\n",
       "    </tr>\n",
       "    <tr>\n",
       "      <th>std</th>\n",
       "      <td>NaN</td>\n",
       "      <td>41680.586319</td>\n",
       "      <td>85.992324</td>\n",
       "      <td>26.816645</td>\n",
       "      <td>252407.884692</td>\n",
       "      <td>213.820682</td>\n",
       "      <td>8.925418</td>\n",
       "      <td>4.402558</td>\n",
       "      <td>NaN</td>\n",
       "      <td>NaN</td>\n",
       "      <td>NaN</td>\n",
       "      <td>NaN</td>\n",
       "    </tr>\n",
       "    <tr>\n",
       "      <th>min</th>\n",
       "      <td>NaN</td>\n",
       "      <td>20007.000000</td>\n",
       "      <td>-2.000000</td>\n",
       "      <td>0.000000</td>\n",
       "      <td>150002.000000</td>\n",
       "      <td>130.000000</td>\n",
       "      <td>0.000000</td>\n",
       "      <td>1.000000</td>\n",
       "      <td>NaN</td>\n",
       "      <td>NaN</td>\n",
       "      <td>NaN</td>\n",
       "      <td>NaN</td>\n",
       "    </tr>\n",
       "    <tr>\n",
       "      <th>25%</th>\n",
       "      <td>NaN</td>\n",
       "      <td>42217.000000</td>\n",
       "      <td>0.000000</td>\n",
       "      <td>0.000000</td>\n",
       "      <td>263714.250000</td>\n",
       "      <td>219.000000</td>\n",
       "      <td>1.000000</td>\n",
       "      <td>2.000000</td>\n",
       "      <td>NaN</td>\n",
       "      <td>NaN</td>\n",
       "      <td>NaN</td>\n",
       "      <td>NaN</td>\n",
       "    </tr>\n",
       "    <tr>\n",
       "      <th>50%</th>\n",
       "      <td>NaN</td>\n",
       "      <td>75366.500000</td>\n",
       "      <td>59.000000</td>\n",
       "      <td>14.000000</td>\n",
       "      <td>452259.500000</td>\n",
       "      <td>326.000000</td>\n",
       "      <td>4.000000</td>\n",
       "      <td>5.000000</td>\n",
       "      <td>NaN</td>\n",
       "      <td>NaN</td>\n",
       "      <td>NaN</td>\n",
       "      <td>NaN</td>\n",
       "    </tr>\n",
       "    <tr>\n",
       "      <th>75%</th>\n",
       "      <td>NaN</td>\n",
       "      <td>115881.750000</td>\n",
       "      <td>179.000000</td>\n",
       "      <td>41.000000</td>\n",
       "      <td>702378.000000</td>\n",
       "      <td>533.250000</td>\n",
       "      <td>15.000000</td>\n",
       "      <td>10.000000</td>\n",
       "      <td>NaN</td>\n",
       "      <td>NaN</td>\n",
       "      <td>NaN</td>\n",
       "      <td>NaN</td>\n",
       "    </tr>\n",
       "    <tr>\n",
       "      <th>max</th>\n",
       "      <td>NaN</td>\n",
       "      <td>159983.000000</td>\n",
       "      <td>335.000000</td>\n",
       "      <td>89.000000</td>\n",
       "      <td>999996.000000</td>\n",
       "      <td>899.000000</td>\n",
       "      <td>29.000000</td>\n",
       "      <td>15.000000</td>\n",
       "      <td>NaN</td>\n",
       "      <td>NaN</td>\n",
       "      <td>NaN</td>\n",
       "      <td>NaN</td>\n",
       "    </tr>\n",
       "  </tbody>\n",
       "</table>\n",
       "</div>"
      ],
      "text/plain": [
       "       COLLEGE         INCOME       OVERAGE      LEFTOVER          HOUSE  \\\n",
       "count    20000   20000.000000  20000.000000  20000.000000   20000.000000   \n",
       "unique       2            NaN           NaN           NaN            NaN   \n",
       "top        one            NaN           NaN           NaN            NaN   \n",
       "freq     10048            NaN           NaN           NaN            NaN   \n",
       "mean       NaN   80281.447750     85.979550     23.898650  493155.264250   \n",
       "std        NaN   41680.586319     85.992324     26.816645  252407.884692   \n",
       "min        NaN   20007.000000     -2.000000      0.000000  150002.000000   \n",
       "25%        NaN   42217.000000      0.000000      0.000000  263714.250000   \n",
       "50%        NaN   75366.500000     59.000000     14.000000  452259.500000   \n",
       "75%        NaN  115881.750000    179.000000     41.000000  702378.000000   \n",
       "max        NaN  159983.000000    335.000000     89.000000  999996.000000   \n",
       "\n",
       "        HANDSET_PRICE  OVER_15MINS_CALLS_PER_MONTH  AVERAGE_CALL_DURATION  \\\n",
       "count    20000.000000                 20000.000000           20000.000000   \n",
       "unique            NaN                          NaN                    NaN   \n",
       "top               NaN                          NaN                    NaN   \n",
       "freq              NaN                          NaN                    NaN   \n",
       "mean       389.615100                     8.000700               6.002250   \n",
       "std        213.820682                     8.925418               4.402558   \n",
       "min        130.000000                     0.000000               1.000000   \n",
       "25%        219.000000                     1.000000               2.000000   \n",
       "50%        326.000000                     4.000000               5.000000   \n",
       "75%        533.250000                    15.000000              10.000000   \n",
       "max        899.000000                    29.000000              15.000000   \n",
       "\n",
       "       REPORTED_SATISFACTION REPORTED_USAGE_LEVEL CONSIDERING_CHANGE_OF_PLAN  \\\n",
       "count                  20000                20000                      20000   \n",
       "unique                     5                    5                          5   \n",
       "top               very_unsat               little                considering   \n",
       "freq                    7909                 7875                       7920   \n",
       "mean                     NaN                  NaN                        NaN   \n",
       "std                      NaN                  NaN                        NaN   \n",
       "min                      NaN                  NaN                        NaN   \n",
       "25%                      NaN                  NaN                        NaN   \n",
       "50%                      NaN                  NaN                        NaN   \n",
       "75%                      NaN                  NaN                        NaN   \n",
       "max                      NaN                  NaN                        NaN   \n",
       "\n",
       "        LEAVE  \n",
       "count   20000  \n",
       "unique      2  \n",
       "top      STAY  \n",
       "freq    10148  \n",
       "mean      NaN  \n",
       "std       NaN  \n",
       "min       NaN  \n",
       "25%       NaN  \n",
       "50%       NaN  \n",
       "75%       NaN  \n",
       "max       NaN  "
      ]
     },
     "execution_count": 3,
     "metadata": {},
     "output_type": "execute_result"
    }
   ],
   "source": [
    "data.describe(include=\"all\")"
   ]
  },
  {
   "cell_type": "code",
   "execution_count": 4,
   "metadata": {},
   "outputs": [
    {
     "data": {
      "text/plain": [
       "count     20000\n",
       "unique        2\n",
       "top        STAY\n",
       "freq      10148\n",
       "Name: LEAVE, dtype: object"
      ]
     },
     "execution_count": 4,
     "metadata": {},
     "output_type": "execute_result"
    }
   ],
   "source": [
    "data.LEAVE.describe()"
   ]
  },
  {
   "cell_type": "code",
   "execution_count": 5,
   "metadata": {},
   "outputs": [
    {
     "data": {
      "text/plain": [
       "0.5074"
      ]
     },
     "execution_count": 5,
     "metadata": {},
     "output_type": "execute_result"
    }
   ],
   "source": [
    "data.LEAVE.describe()['freq'] / data.LEAVE.describe()['count']"
   ]
  },
  {
   "cell_type": "markdown",
   "metadata": {},
   "source": [
    "Hay 12 atributos, incluyendo la variable objetivo LEAVE, que tiene cómo categoría mayoritaria STAY, que da un baseline de clasificación de 50,74%."
   ]
  },
  {
   "cell_type": "code",
   "execution_count": 6,
   "metadata": {},
   "outputs": [
    {
     "data": {
      "text/plain": [
       "STAY     10148\n",
       "LEAVE     9852\n",
       "Name: LEAVE, dtype: int64"
      ]
     },
     "execution_count": 6,
     "metadata": {},
     "output_type": "execute_result"
    }
   ],
   "source": [
    "data.LEAVE.value_counts()"
   ]
  },
  {
   "cell_type": "code",
   "execution_count": 7,
   "metadata": {},
   "outputs": [
    {
     "data": {
      "text/plain": [
       "<matplotlib.axes._subplots.AxesSubplot at 0x270f21dcb70>"
      ]
     },
     "execution_count": 7,
     "metadata": {},
     "output_type": "execute_result"
    },
    {
     "data": {
      "image/png": "[encoded data removed]",
      "text/plain": [
       "<Figure size 432x288 with 1 Axes>"
      ]
     },
     "metadata": {},
     "output_type": "display_data"
    }
   ],
   "source": [
    "data.LEAVE.value_counts().plot.bar()"
   ]
  },
  {
   "cell_type": "markdown",
   "metadata": {},
   "source": [
    "La variable objetivo está bastante balanceada"
   ]
  },
  {
   "cell_type": "markdown",
   "metadata": {},
   "source": [
    "<font color='blue'>\n",
    "    - Al parecer no hay problemas con datos faltantes (todas las variables tienen 20000 registros). <br/>\n",
    "    - Las variables numéricas tienen escalas bastante diferentes, que resultarán en un problema al calcular distancias. <br/>\n",
    "    - Los datos están bastante balanceados. <br/>\n",
    "    - Hay un problema de incosistencia de datos con la variable OVERAGE, ya que su mínimo valor es de -2\n",
    "</font>"
   ]
  },
  {
   "cell_type": "markdown",
   "metadata": {},
   "source": [
    "**Parte 2**:\n",
    "\n",
    "Utilizando pandas y matplotlib, analice la distribución de las variables independientes con respecto a los valores de la variable objetivo LEAVE y STAY. Trate de encontrar patrones en plots univariados (densidad) y Bivariados (scatterplots) para las variables numéricas, y gráficos de barras de conteo para las categóricas."
   ]
  }
 ],
 "metadata": {
  "kernelspec": {
   "display_name": "Python 3",
   "language": "python",
   "name": "python3"
  },
  "language_info": {
   "codemirror_mode": {
    "name": "ipython",
    "version": 3
   },
   "file_extension": ".py",
   "mimetype": "text/x-python",
   "name": "python",
   "nbconvert_exporter": "python",
   "pygments_lexer": "ipython3",
   "version": "3.6.6"
  }
 },
 "nbformat": 4,
 "nbformat_minor": 2
}
