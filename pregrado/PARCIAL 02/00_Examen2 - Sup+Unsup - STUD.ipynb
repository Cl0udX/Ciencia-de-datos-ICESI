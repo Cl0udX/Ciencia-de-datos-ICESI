{
 "cells": [
  {
   "cell_type": "markdown",
   "metadata": {},
   "source": [
    "# Analítica de datos\n",
    "# Examen parcial 2\n",
    "# 2018-02\n",
    "# <font color='red'> NOMBRE APELLIDO, código </font>"
   ]
  },
  {
   "cell_type": "code",
   "execution_count": 149,
   "metadata": {},
   "outputs": [],
   "source": [
    "import numpy as np #operaciones matriciales y con vectores\n",
    "import pandas as pd #tratamiento de datos\n",
    "import matplotlib.pyplot as plt #gráficos\n",
    "import seaborn as sns\n",
    "import math"
   ]
  },
  {
   "cell_type": "code",
   "execution_count": 183,
   "metadata": {},
   "outputs": [],
   "source": [
    "from sklearn import metrics\n",
    "from sklearn.preprocessing import StandardScaler\n",
    "from sklearn.linear_model import LogisticRegression\n",
    "from sklearn.neighbors import KNeighborsClassifier\n",
    "from sklearn.tree import DecisionTreeClassifier\n",
    "from sklearn.model_selection import GridSearchCV\n",
    "from sklearn.model_selection import cross_val_score\n",
    "\n",
    "from sklearn.cluster import KMeans\n",
    "from sklearn.decomposition import PCA"
   ]
  },
  {
   "cell_type": "markdown",
   "metadata": {},
   "source": [
    "Carguen el archivo \"TelcosBogota.csv\" y entiéndanlo.\n",
    "\n",
    "Se trata de un archivo que incluye los clientes que una compañía telefónica tenía hace 6 meses; todas los valores se refieren al estado del cliente hace 6 meses con la excepción del ESTADO (RETIRADO o VINCULADO) que describe su situación actual.\n",
    "Algunos de ellos siguen con la compañía, otros la abandonaron por la competencia. La idea es identificar los clientes propensos a hacer churn, pensando en diferentes estrategias para fidelizarlos.\n",
    "\n",
    "El significado de cada columna es el siguiente:\n",
    "- ESTADO: Indica el **estado actual** del cliente con respecto a los servicios de la telefónica\n",
    "- MESES: Indica cuantos meses llevaba vinculado con la telefónica\n",
    "- INGRESOS: Salario estimado del cliente\n",
    "- CASA: Valor de la casa en la que residía el cliente\n",
    "- PRECIO_DISPOSITIVO: Valor del teléfono del cliente\n",
    "- PROMEDIO_DURACION_LLAMADA: Promedio mensual de la duración de las llamadas del cliente\n",
    "- SATISFACCION: Puntuación de la satisfacción de 0 a 10 dada por el cliente en una encuesta\n",
    "- SOBRECARGO: Promedio de minutos facturados adicionalmente al cliente al consumir su plan fijo\n",
    "- SALDO_RESTANTE: Promedio de minutos sin consumir de su plan fijo al finalizar cada mes\n",
    "- COMPARTIR: Indica si el cliente acepta compartir su posición en el caso de problema de conexión (e.g. pérdida de la señal, caida de una llamada)\n",
    "- LON: Longitud en la que se encontraba el cliente durante el último problema de conexión\n",
    "- LAT: Latitud en la que se encontraba el cliente durante el último problema de conexión"
   ]
  },
  {
   "cell_type": "markdown",
   "metadata": {},
   "source": [
    "# 1. Entendimiento de los datos"
   ]
  },
  {
   "cell_type": "markdown",
   "metadata": {},
   "source": [
    "Puntos a desarrollar:\n",
    "1. Establezcan el baseline de clasificación de los clientes que han hecho churn. **(0.1 puntos)**\n",
    "1. Indiquen qué características de los datos les llaman la atención (rangos y escalas, distribuciones de los valores, valores faltantes, etc); no se les pide que arreglen los datos, pues se considera que para los propósitos de las tareas que se van a realizar los datos ya están en un estado ideal. Particularmente describan como se relacionan los valores de LON, LAT y COMPARTIR. **(0.6 puntos)**\n",
    "1. Exploren los datos con visualizaciones univariadas y bivariadas. No vamos a considerar COMPARTIR, LON y LAT en el análisis univariado ni bivariado **(0.8 puntos)**\n"
   ]
  },
  {
   "cell_type": "markdown",
   "metadata": {},
   "source": [
    "# 2. Modelos de clasificación"
   ]
  },
  {
   "cell_type": "markdown",
   "metadata": {},
   "source": [
    "Aplicar modelos de clasificación a los datos para tratar de predecir si un cliente es propenso a dejar la compañía en los siguientes 6 meses.\n",
    "\n",
    "Puntos a tratar:\n",
    "- Desarrollar modelos con regresión logística **(0.3 puntos)**, KNN **(0.5 puntos)** y árboles de decisión **(0.5 puntos)**, buscando los parámetros que mejores resultados obtengan utilizando un protocolo de 5-fold cross-validation.\n",
    "- Evaluar si la normalización de los datos tienen efecto en los resultados de los datos (modelos con y sin normalización)  **(0.3 puntos)**.\n",
    "- Escoger el mejor modelo, después de establecer y justificar la métrica de evaluación de los modelos que se va a utilizar para comparar los modelos **(0.3 puntos)**.\n",
    "\n",
    "No se debe incluir COMPARTIR, LON y LAT en los modelos de clasificación."
   ]
  },
  {
   "cell_type": "markdown",
   "metadata": {},
   "source": [
    "# 3. Segmentación"
   ]
  },
  {
   "cell_type": "markdown",
   "metadata": {},
   "source": [
    "Vamos a analizar los clientes que hacen churn.\n",
    "La idea es diseñar **3** campañas de mercadeo dirigidas a las características específicas de ciertas categorías de clientes que vamos a segmentar.\n",
    "\n",
    "Puntos a tratar:\n",
    "- Se tienen 8 variables a analizar (no considerar COMPARTIR, LON, LAT, ESTADO). Realizar una transformación por PCA, sobre los datos de los clientes RETIRADOS, y seleccionar el número de componentes principales que garanticen conservar al menos 58% de la información. Interpretar los ejes obtenidos **(0.8 puntos)**\n",
    "- Utilizar K-Means para realizar la segmentación sobre los datos de los clientes RETIRADOS en el espacio de representación dado por PCA. **(0.6 puntos)**.\n",
    "- Interpretar las características de los clusters obtenidos, utilizando visualizaciones gráficas y proponer planes de mercadro para tratar a los clientes de cada cluster. **(0.7 puntos)**."
   ]
  }
 ],
 "metadata": {
  "kernelspec": {
   "display_name": "Python 3",
   "language": "python",
   "name": "python3"
  },
  "language_info": {
   "codemirror_mode": {
    "name": "ipython",
    "version": 3
   },
   "file_extension": ".py",
   "mimetype": "text/x-python",
   "name": "python",
   "nbconvert_exporter": "python",
   "pygments_lexer": "ipython3",
   "version": "3.6.6"
  }
 },
 "nbformat": 4,
 "nbformat_minor": 2
}
